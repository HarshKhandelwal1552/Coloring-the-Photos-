{
 "cells": [
  {
   "cell_type": "code",
   "execution_count": 82,
   "metadata": {},
   "outputs": [],
   "source": [
    "import os\n",
    "from IPython.display import clear_output\n",
    "\n",
    "from keras.layers import Conv2D, UpSampling2D\n",
    "from keras.models import Sequential\n",
    "from keras.preprocessing.image import ImageDataGenerator, img_to_array, load_img,array_to_img\n",
    "from skimage.color import rgb2lab, lab2rgb\n",
    "from skimage.transform import resize\n",
    "from skimage.io import imsave\n",
    "import numpy as np\n",
    "import tensorflow as tf\n",
    "\n"
   ]
  },
  {
   "cell_type": "code",
   "execution_count": 83,
   "metadata": {},
   "outputs": [],
   "source": [
    "from sklearn.externals import joblib"
   ]
  },
  {
   "cell_type": "code",
   "execution_count": 84,
   "metadata": {},
   "outputs": [],
   "source": [
    "#Normalize images \n",
    "train_datagen = ImageDataGenerator(rescale=1. / 255)"
   ]
  },
  {
   "cell_type": "code",
   "execution_count": 85,
   "metadata": {},
   "outputs": [
    {
     "name": "stdout",
     "output_type": "stream",
     "text": [
      "Found 10657 images belonging to 149 classes.\n"
     ]
    }
   ],
   "source": [
    "\n",
    "#Resize images, if needed\n",
    "train = train_datagen.flow_from_directory('dataset/', \n",
    "                                          target_size=(64, 64), \n",
    "                                          batch_size=64, \n",
    "                                          class_mode=None)\n"
   ]
  },
  {
   "cell_type": "code",
   "execution_count": 86,
   "metadata": {},
   "outputs": [],
   "source": [
    "\n",
    "X_ =[]\n",
    "Y =[]\n"
   ]
  },
  {
   "cell_type": "code",
   "execution_count": 87,
   "metadata": {},
   "outputs": [
    {
     "name": "stdout",
     "output_type": "stream",
     "text": [
      "166\n"
     ]
    }
   ],
   "source": [
    "for i in range(167):\n",
    "\n",
    "    for img in train[i]:\n",
    "        clear_output(wait=True)\n",
    "        print(i)\n",
    "        try:\n",
    "          lab = rgb2lab(img)\n",
    "          X_.append(lab[:,:,0]) \n",
    "          Y.append(lab[:,:,1:] / 128) #A and B values range from -127 to 128, \n",
    "      #so we divide the values by 128 to restrict values to between -1 and 1.\n",
    "        except:\n",
    "         print('error')\n",
    "\n"
   ]
  },
  {
   "cell_type": "code",
   "execution_count": 88,
   "metadata": {},
   "outputs": [
    {
     "name": "stdout",
     "output_type": "stream",
     "text": [
      "(10657, 64, 64, 1)\n",
      "(10657, 64, 64, 2)\n"
     ]
    }
   ],
   "source": [
    "X = np.array(X_)\n",
    "Y = np.array(Y)\n",
    "X = X.reshape(X.shape+(1,)) #dimensions to be the same for X and Y\n",
    "print(X.shape)\n",
    "print(Y.shape)"
   ]
  },
  {
   "cell_type": "code",
   "execution_count": 89,
   "metadata": {},
   "outputs": [],
   "source": [
    "X_.clear()"
   ]
  },
  {
   "cell_type": "code",
   "execution_count": 97,
   "metadata": {},
   "outputs": [],
   "source": [
    "# down extraction\n",
    "\n",
    "model = Sequential()\n",
    "model.add(Conv2D(32, (3, 3), activation='relu', padding='same', strides=2, input_shape=(64, 64, 1)))\n",
    "model.add(Conv2D(64, (3, 3), activation='relu', padding='same'))\n",
    "model.add(Conv2D(64, (3,3), activation='relu', padding='same', strides=2))\n",
    "model.add(Conv2D(128, (3,3), activation='relu', padding='same'))\n",
    "model.add(Conv2D(128, (3,3), activation='relu', padding='same', strides=2))\n",
    "model.add(Conv2D(256, (3,3), activation='relu', padding='same'))\n",
    "model.add(Conv2D(256, (3,3), activation='relu', padding='same'))\n",
    "model.add(Conv2D(128, (3,3), activation='relu', padding='same'))\n"
   ]
  },
  {
   "cell_type": "code",
   "execution_count": 98,
   "metadata": {},
   "outputs": [
    {
     "name": "stdout",
     "output_type": "stream",
     "text": [
      "Model: \"sequential_3\"\n",
      "_________________________________________________________________\n",
      "Layer (type)                 Output Shape              Param #   \n",
      "=================================================================\n",
      "conv2d_27 (Conv2D)           (None, 32, 32, 32)        320       \n",
      "_________________________________________________________________\n",
      "conv2d_28 (Conv2D)           (None, 32, 32, 64)        18496     \n",
      "_________________________________________________________________\n",
      "conv2d_29 (Conv2D)           (None, 16, 16, 64)        36928     \n",
      "_________________________________________________________________\n",
      "conv2d_30 (Conv2D)           (None, 16, 16, 128)       73856     \n",
      "_________________________________________________________________\n",
      "conv2d_31 (Conv2D)           (None, 8, 8, 128)         147584    \n",
      "_________________________________________________________________\n",
      "conv2d_32 (Conv2D)           (None, 8, 8, 256)         295168    \n",
      "_________________________________________________________________\n",
      "conv2d_33 (Conv2D)           (None, 8, 8, 256)         590080    \n",
      "_________________________________________________________________\n",
      "conv2d_34 (Conv2D)           (None, 8, 8, 128)         295040    \n",
      "_________________________________________________________________\n",
      "conv2d_35 (Conv2D)           (None, 8, 8, 64)          73792     \n",
      "_________________________________________________________________\n",
      "up_sampling2d_7 (UpSampling2 (None, 16, 16, 64)        0         \n",
      "_________________________________________________________________\n",
      "conv2d_36 (Conv2D)           (None, 16, 16, 32)        18464     \n",
      "_________________________________________________________________\n",
      "up_sampling2d_8 (UpSampling2 (None, 32, 32, 32)        0         \n",
      "_________________________________________________________________\n",
      "conv2d_37 (Conv2D)           (None, 32, 32, 16)        4624      \n",
      "_________________________________________________________________\n",
      "conv2d_38 (Conv2D)           (None, 32, 32, 16)        2320      \n",
      "_________________________________________________________________\n",
      "conv2d_39 (Conv2D)           (None, 32, 32, 2)         290       \n",
      "_________________________________________________________________\n",
      "up_sampling2d_9 (UpSampling2 (None, 64, 64, 2)         0         \n",
      "=================================================================\n",
      "Total params: 1,556,962\n",
      "Trainable params: 1,556,962\n",
      "Non-trainable params: 0\n",
      "_________________________________________________________________\n"
     ]
    }
   ],
   "source": [
    "# up extration\n",
    "\n",
    "model.add(Conv2D(64, (3,3), activation='relu', padding='same'))\n",
    "model.add(UpSampling2D((2, 2)))\n",
    "model.add(Conv2D(32, (3,3), activation='relu', padding='same'))\n",
    "model.add(UpSampling2D((2, 2)))\n",
    "model.add(Conv2D(16, (3,3), activation='relu', padding='same'))\n",
    "model.add(Conv2D(16, (3,3), activation='relu', padding='same'))\n",
    "model.add(Conv2D(2, (3, 3), activation='tanh', padding='same'))\n",
    "model.add(UpSampling2D((2, 2)))\n",
    "model.compile(optimizer='adam', loss='mse' , metrics=['accuracy'])\n",
    "model.summary()"
   ]
  },
  {
   "cell_type": "code",
   "execution_count": 100,
   "metadata": {},
   "outputs": [
    {
     "name": "stdout",
     "output_type": "stream",
     "text": [
      "Train on 7459 samples, validate on 3198 samples\n",
      "Epoch 1/100\n",
      "7459/7459 [==============================] - 71s 10ms/step - loss: 0.0221 - accuracy: 0.7039 - val_loss: 0.0244 - val_accuracy: 0.6689\n",
      "Epoch 2/100\n",
      "7459/7459 [==============================] - 71s 10ms/step - loss: 0.0217 - accuracy: 0.7024 - val_loss: 0.0243 - val_accuracy: 0.6627\n",
      "Epoch 3/100\n",
      "7459/7459 [==============================] - 72s 10ms/step - loss: 0.0208 - accuracy: 0.7105 - val_loss: 0.0241 - val_accuracy: 0.6697\n",
      "Epoch 4/100\n",
      "7459/7459 [==============================] - 72s 10ms/step - loss: 0.0201 - accuracy: 0.7067 - val_loss: 0.0246 - val_accuracy: 0.6741\n",
      "Epoch 5/100\n",
      "7459/7459 [==============================] - 71s 10ms/step - loss: 0.0192 - accuracy: 0.7187 - val_loss: 0.0244 - val_accuracy: 0.6724\n",
      "Epoch 6/100\n",
      "7459/7459 [==============================] - 73s 10ms/step - loss: 0.0183 - accuracy: 0.7203 - val_loss: 0.0244 - val_accuracy: 0.6618\n",
      "Epoch 7/100\n",
      "7459/7459 [==============================] - 72s 10ms/step - loss: 0.0174 - accuracy: 0.7201 - val_loss: 0.0255 - val_accuracy: 0.6527\n",
      "Epoch 8/100\n",
      "7459/7459 [==============================] - 72s 10ms/step - loss: 0.0163 - accuracy: 0.7247 - val_loss: 0.0243 - val_accuracy: 0.6604\n",
      "Epoch 9/100\n",
      "7459/7459 [==============================] - 72s 10ms/step - loss: 0.0154 - accuracy: 0.7286 - val_loss: 0.0247 - val_accuracy: 0.6604\n",
      "Epoch 10/100\n",
      "7459/7459 [==============================] - 77s 10ms/step - loss: 0.0144 - accuracy: 0.7270 - val_loss: 0.0242 - val_accuracy: 0.6616\n",
      "Epoch 11/100\n",
      "7459/7459 [==============================] - 76s 10ms/step - loss: 0.0138 - accuracy: 0.7289 - val_loss: 0.0246 - val_accuracy: 0.6581\n",
      "Epoch 12/100\n",
      "7459/7459 [==============================] - 73s 10ms/step - loss: 0.0130 - accuracy: 0.7287 - val_loss: 0.0241 - val_accuracy: 0.6049\n",
      "Epoch 13/100\n",
      "7459/7459 [==============================] - 83s 11ms/step - loss: 0.0124 - accuracy: 0.7313 - val_loss: 0.0245 - val_accuracy: 0.6345\n",
      "Epoch 14/100\n",
      "7459/7459 [==============================] - 104s 14ms/step - loss: 0.0121 - accuracy: 0.7330 - val_loss: 0.0249 - val_accuracy: 0.6609\n",
      "Epoch 15/100\n",
      "7459/7459 [==============================] - 105s 14ms/step - loss: 0.0115 - accuracy: 0.7340 - val_loss: 0.0243 - val_accuracy: 0.6453\n",
      "Epoch 16/100\n",
      "7459/7459 [==============================] - 104s 14ms/step - loss: 0.0111 - accuracy: 0.7372 - val_loss: 0.0243 - val_accuracy: 0.6498\n",
      "Epoch 17/100\n",
      "7459/7459 [==============================] - 104s 14ms/step - loss: 0.0107 - accuracy: 0.7386 - val_loss: 0.0248 - val_accuracy: 0.6416\n",
      "Epoch 18/100\n",
      "7459/7459 [==============================] - 103s 14ms/step - loss: 0.0104 - accuracy: 0.7401 - val_loss: 0.0245 - val_accuracy: 0.6504\n",
      "Epoch 19/100\n",
      "7459/7459 [==============================] - 104s 14ms/step - loss: 0.0102 - accuracy: 0.7395 - val_loss: 0.0247 - val_accuracy: 0.6478\n",
      "Epoch 20/100\n",
      "7459/7459 [==============================] - 104s 14ms/step - loss: 0.0101 - accuracy: 0.7451 - val_loss: 0.0244 - val_accuracy: 0.6209\n",
      "Epoch 21/100\n",
      "7459/7459 [==============================] - 107s 14ms/step - loss: 0.0100 - accuracy: 0.7450 - val_loss: 0.0243 - val_accuracy: 0.6371\n",
      "Epoch 22/100\n",
      "7459/7459 [==============================] - 95s 13ms/step - loss: 0.0097 - accuracy: 0.7474 - val_loss: 0.0242 - val_accuracy: 0.6395\n",
      "Epoch 23/100\n",
      "7459/7459 [==============================] - 73s 10ms/step - loss: 0.0095 - accuracy: 0.7476 - val_loss: 0.0247 - val_accuracy: 0.6547\n",
      "Epoch 24/100\n",
      "7459/7459 [==============================] - 73s 10ms/step - loss: 0.0093 - accuracy: 0.7515 - val_loss: 0.0245 - val_accuracy: 0.6458\n",
      "Epoch 25/100\n",
      "7459/7459 [==============================] - 73s 10ms/step - loss: 0.0092 - accuracy: 0.7543 - val_loss: 0.0243 - val_accuracy: 0.6484\n",
      "Epoch 26/100\n",
      "7459/7459 [==============================] - 72s 10ms/step - loss: 0.0090 - accuracy: 0.7569 - val_loss: 0.0243 - val_accuracy: 0.6512\n",
      "Epoch 27/100\n",
      "7459/7459 [==============================] - 72s 10ms/step - loss: 0.0089 - accuracy: 0.7535 - val_loss: 0.0245 - val_accuracy: 0.6487\n",
      "Epoch 28/100\n",
      "7459/7459 [==============================] - 72s 10ms/step - loss: 0.0088 - accuracy: 0.7605 - val_loss: 0.0243 - val_accuracy: 0.6422\n",
      "Epoch 29/100\n",
      "7459/7459 [==============================] - 72s 10ms/step - loss: 0.0087 - accuracy: 0.7587 - val_loss: 0.0249 - val_accuracy: 0.6556\n",
      "Epoch 30/100\n",
      "7459/7459 [==============================] - 72s 10ms/step - loss: 0.0087 - accuracy: 0.7610 - val_loss: 0.0243 - val_accuracy: 0.6457\n",
      "Epoch 31/100\n",
      "7459/7459 [==============================] - 72s 10ms/step - loss: 0.0087 - accuracy: 0.7603 - val_loss: 0.0246 - val_accuracy: 0.6504\n",
      "Epoch 32/100\n",
      "7459/7459 [==============================] - 72s 10ms/step - loss: 0.0087 - accuracy: 0.7600 - val_loss: 0.0243 - val_accuracy: 0.6469\n",
      "Epoch 33/100\n",
      "7459/7459 [==============================] - 72s 10ms/step - loss: 0.0085 - accuracy: 0.7617 - val_loss: 0.0243 - val_accuracy: 0.6485\n",
      "Epoch 34/100\n",
      "7459/7459 [==============================] - 72s 10ms/step - loss: 0.0084 - accuracy: 0.7615 - val_loss: 0.0245 - val_accuracy: 0.6510\n",
      "Epoch 35/100\n",
      "7459/7459 [==============================] - 75s 10ms/step - loss: 0.0082 - accuracy: 0.7624 - val_loss: 0.0242 - val_accuracy: 0.6497\n",
      "Epoch 36/100\n",
      "7459/7459 [==============================] - 86s 12ms/step - loss: 0.0082 - accuracy: 0.7619 - val_loss: 0.0247 - val_accuracy: 0.6497\n",
      "Epoch 37/100\n",
      "7459/7459 [==============================] - 86s 11ms/step - loss: 0.0082 - accuracy: 0.7629 - val_loss: 0.0245 - val_accuracy: 0.6548\n",
      "Epoch 38/100\n",
      "7459/7459 [==============================] - 81s 11ms/step - loss: 0.0082 - accuracy: 0.7621 - val_loss: 0.0242 - val_accuracy: 0.6466\n",
      "Epoch 39/100\n",
      "7459/7459 [==============================] - 72s 10ms/step - loss: 0.0082 - accuracy: 0.7620 - val_loss: 0.0243 - val_accuracy: 0.6459\n",
      "Epoch 40/100\n",
      "7459/7459 [==============================] - 72s 10ms/step - loss: 0.0080 - accuracy: 0.7650 - val_loss: 0.0243 - val_accuracy: 0.6426\n",
      "Epoch 41/100\n",
      "7459/7459 [==============================] - 73s 10ms/step - loss: 0.0078 - accuracy: 0.7661 - val_loss: 0.0243 - val_accuracy: 0.6413\n",
      "Epoch 42/100\n",
      "7459/7459 [==============================] - 73s 10ms/step - loss: 0.0078 - accuracy: 0.7648 - val_loss: 0.0245 - val_accuracy: 0.6552\n",
      "Epoch 43/100\n",
      "7459/7459 [==============================] - 72s 10ms/step - loss: 0.0079 - accuracy: 0.7639 - val_loss: 0.0245 - val_accuracy: 0.6364\n",
      "Epoch 44/100\n",
      "7459/7459 [==============================] - 72s 10ms/step - loss: 0.0079 - accuracy: 0.7644 - val_loss: 0.0243 - val_accuracy: 0.6481\n",
      "Epoch 45/100\n",
      "7459/7459 [==============================] - 72s 10ms/step - loss: 0.0078 - accuracy: 0.7653 - val_loss: 0.0242 - val_accuracy: 0.6478\n",
      "Epoch 46/100\n",
      "7459/7459 [==============================] - 73s 10ms/step - loss: 0.0078 - accuracy: 0.7649 - val_loss: 0.0244 - val_accuracy: 0.6433\n",
      "Epoch 47/100\n",
      "7459/7459 [==============================] - 72s 10ms/step - loss: 0.0078 - accuracy: 0.7644 - val_loss: 0.0245 - val_accuracy: 0.6485\n",
      "Epoch 48/100\n",
      "7459/7459 [==============================] - 72s 10ms/step - loss: 0.0077 - accuracy: 0.7652 - val_loss: 0.0240 - val_accuracy: 0.6444\n",
      "Epoch 49/100\n",
      "7459/7459 [==============================] - 72s 10ms/step - loss: 0.0076 - accuracy: 0.7654 - val_loss: 0.0242 - val_accuracy: 0.6423\n",
      "Epoch 50/100\n",
      "7459/7459 [==============================] - 72s 10ms/step - loss: 0.0076 - accuracy: 0.7677 - val_loss: 0.0242 - val_accuracy: 0.6425\n",
      "Epoch 51/100\n",
      "7459/7459 [==============================] - 72s 10ms/step - loss: 0.0076 - accuracy: 0.7671 - val_loss: 0.0242 - val_accuracy: 0.6565\n",
      "Epoch 52/100\n",
      "7459/7459 [==============================] - 72s 10ms/step - loss: 0.0076 - accuracy: 0.7662 - val_loss: 0.0246 - val_accuracy: 0.6363\n",
      "Epoch 53/100\n",
      "7459/7459 [==============================] - 72s 10ms/step - loss: 0.0076 - accuracy: 0.7679 - val_loss: 0.0241 - val_accuracy: 0.6514\n",
      "Epoch 54/100\n",
      "7459/7459 [==============================] - 79s 11ms/step - loss: 0.0075 - accuracy: 0.7669 - val_loss: 0.0249 - val_accuracy: 0.6448\n",
      "Epoch 55/100\n",
      "7459/7459 [==============================] - 73s 10ms/step - loss: 0.0075 - accuracy: 0.7671 - val_loss: 0.0241 - val_accuracy: 0.6358\n",
      "Epoch 56/100\n"
     ]
    },
    {
     "name": "stdout",
     "output_type": "stream",
     "text": [
      "7459/7459 [==============================] - 72s 10ms/step - loss: 0.0075 - accuracy: 0.7670 - val_loss: 0.0242 - val_accuracy: 0.6534\n",
      "Epoch 57/100\n",
      "7459/7459 [==============================] - 73s 10ms/step - loss: 0.0074 - accuracy: 0.7678 - val_loss: 0.0246 - val_accuracy: 0.6484\n",
      "Epoch 58/100\n",
      "7459/7459 [==============================] - 75s 10ms/step - loss: 0.0073 - accuracy: 0.7663 - val_loss: 0.0241 - val_accuracy: 0.6556\n",
      "Epoch 59/100\n",
      "7459/7459 [==============================] - 73s 10ms/step - loss: 0.0072 - accuracy: 0.7717 - val_loss: 0.0243 - val_accuracy: 0.6480\n",
      "Epoch 60/100\n",
      "7459/7459 [==============================] - 75s 10ms/step - loss: 0.0071 - accuracy: 0.7715 - val_loss: 0.0244 - val_accuracy: 0.6513\n",
      "Epoch 61/100\n",
      "7459/7459 [==============================] - 72s 10ms/step - loss: 0.0071 - accuracy: 0.7585 - val_loss: 0.0242 - val_accuracy: 0.6437\n",
      "Epoch 62/100\n",
      "7459/7459 [==============================] - 72s 10ms/step - loss: 0.0071 - accuracy: 0.7687 - val_loss: 0.0242 - val_accuracy: 0.6503\n",
      "Epoch 63/100\n",
      "7459/7459 [==============================] - 72s 10ms/step - loss: 0.0071 - accuracy: 0.7728 - val_loss: 0.0243 - val_accuracy: 0.6495\n",
      "Epoch 64/100\n",
      "7459/7459 [==============================] - 72s 10ms/step - loss: 0.0070 - accuracy: 0.7710 - val_loss: 0.0240 - val_accuracy: 0.6521\n",
      "Epoch 65/100\n",
      "7459/7459 [==============================] - 72s 10ms/step - loss: 0.0070 - accuracy: 0.7592 - val_loss: 0.0240 - val_accuracy: 0.6486\n",
      "Epoch 66/100\n",
      "7459/7459 [==============================] - 73s 10ms/step - loss: 0.0071 - accuracy: 0.7705 - val_loss: 0.0243 - val_accuracy: 0.6550\n",
      "Epoch 67/100\n",
      "7459/7459 [==============================] - 72s 10ms/step - loss: 0.0071 - accuracy: 0.7703 - val_loss: 0.0243 - val_accuracy: 0.6500\n",
      "Epoch 68/100\n",
      "7459/7459 [==============================] - 73s 10ms/step - loss: 0.0070 - accuracy: 0.7715 - val_loss: 0.0241 - val_accuracy: 0.6423\n",
      "Epoch 69/100\n",
      "7459/7459 [==============================] - 73s 10ms/step - loss: 0.0070 - accuracy: 0.7723 - val_loss: 0.0241 - val_accuracy: 0.6473\n",
      "Epoch 70/100\n",
      "7459/7459 [==============================] - 73s 10ms/step - loss: 0.0070 - accuracy: 0.7717 - val_loss: 0.0241 - val_accuracy: 0.6435\n",
      "Epoch 71/100\n",
      "7459/7459 [==============================] - 73s 10ms/step - loss: 0.0070 - accuracy: 0.7712 - val_loss: 0.0239 - val_accuracy: 0.6448\n",
      "Epoch 72/100\n",
      "7459/7459 [==============================] - 73s 10ms/step - loss: 0.0070 - accuracy: 0.7715 - val_loss: 0.0243 - val_accuracy: 0.6349\n",
      "Epoch 73/100\n",
      "7459/7459 [==============================] - 73s 10ms/step - loss: 0.0069 - accuracy: 0.7706 - val_loss: 0.0242 - val_accuracy: 0.6483\n",
      "Epoch 74/100\n",
      "7459/7459 [==============================] - 73s 10ms/step - loss: 0.0069 - accuracy: 0.7615 - val_loss: 0.0240 - val_accuracy: 0.6444\n",
      "Epoch 75/100\n",
      "7459/7459 [==============================] - 73s 10ms/step - loss: 0.0068 - accuracy: 0.7750 - val_loss: 0.0242 - val_accuracy: 0.6419\n",
      "Epoch 76/100\n",
      "7459/7459 [==============================] - 73s 10ms/step - loss: 0.0067 - accuracy: 0.7546 - val_loss: 0.0242 - val_accuracy: 0.6489\n",
      "Epoch 77/100\n",
      "7459/7459 [==============================] - 73s 10ms/step - loss: 0.0067 - accuracy: 0.7746 - val_loss: 0.0243 - val_accuracy: 0.6423\n",
      "Epoch 78/100\n",
      "7459/7459 [==============================] - 73s 10ms/step - loss: 0.0067 - accuracy: 0.7753 - val_loss: 0.0239 - val_accuracy: 0.6441\n",
      "Epoch 79/100\n",
      "7459/7459 [==============================] - 73s 10ms/step - loss: 0.0067 - accuracy: 0.7728 - val_loss: 0.0242 - val_accuracy: 0.6443\n",
      "Epoch 80/100\n",
      "7459/7459 [==============================] - 73s 10ms/step - loss: 0.0067 - accuracy: 0.7672 - val_loss: 0.0240 - val_accuracy: 0.6516\n",
      "Epoch 81/100\n",
      "7459/7459 [==============================] - 74s 10ms/step - loss: 0.0067 - accuracy: 0.7750 - val_loss: 0.0243 - val_accuracy: 0.6468\n",
      "Epoch 82/100\n",
      "7459/7459 [==============================] - 73s 10ms/step - loss: 0.0066 - accuracy: 0.7753 - val_loss: 0.0240 - val_accuracy: 0.6496\n",
      "Epoch 83/100\n",
      "7459/7459 [==============================] - 73s 10ms/step - loss: 0.0066 - accuracy: 0.7746 - val_loss: 0.0237 - val_accuracy: 0.6503\n",
      "Epoch 84/100\n",
      "7459/7459 [==============================] - 72s 10ms/step - loss: 0.0065 - accuracy: 0.7775 - val_loss: 0.0241 - val_accuracy: 0.6412\n",
      "Epoch 85/100\n",
      "7459/7459 [==============================] - 73s 10ms/step - loss: 0.0064 - accuracy: 0.7772 - val_loss: 0.0240 - val_accuracy: 0.6480\n",
      "Epoch 86/100\n",
      "7459/7459 [==============================] - 73s 10ms/step - loss: 0.0064 - accuracy: 0.7780 - val_loss: 0.0243 - val_accuracy: 0.6458\n",
      "Epoch 87/100\n",
      "7459/7459 [==============================] - 73s 10ms/step - loss: 0.0065 - accuracy: 0.7761 - val_loss: 0.0240 - val_accuracy: 0.6468\n",
      "Epoch 88/100\n",
      "7459/7459 [==============================] - 74s 10ms/step - loss: 0.0065 - accuracy: 0.7772 - val_loss: 0.0238 - val_accuracy: 0.6429\n",
      "Epoch 89/100\n",
      "7459/7459 [==============================] - 74s 10ms/step - loss: 0.0065 - accuracy: 0.7752 - val_loss: 0.0239 - val_accuracy: 0.6509\n",
      "Epoch 90/100\n",
      "7459/7459 [==============================] - 73s 10ms/step - loss: 0.0065 - accuracy: 0.7768 - val_loss: 0.0242 - val_accuracy: 0.6359\n",
      "Epoch 91/100\n",
      "7459/7459 [==============================] - 73s 10ms/step - loss: 0.0064 - accuracy: 0.7778 - val_loss: 0.0239 - val_accuracy: 0.6468\n",
      "Epoch 92/100\n",
      "7459/7459 [==============================] - 73s 10ms/step - loss: 0.0064 - accuracy: 0.7778 - val_loss: 0.0244 - val_accuracy: 0.6496\n",
      "Epoch 93/100\n",
      "7459/7459 [==============================] - 76s 10ms/step - loss: 0.0065 - accuracy: 0.7768 - val_loss: 0.0242 - val_accuracy: 0.6519\n",
      "Epoch 94/100\n",
      "7459/7459 [==============================] - 74s 10ms/step - loss: 0.0066 - accuracy: 0.7760 - val_loss: 0.0240 - val_accuracy: 0.6498\n",
      "Epoch 95/100\n",
      "7459/7459 [==============================] - 74s 10ms/step - loss: 0.0065 - accuracy: 0.7777 - val_loss: 0.0242 - val_accuracy: 0.6424\n",
      "Epoch 96/100\n",
      "7459/7459 [==============================] - 72s 10ms/step - loss: 0.0063 - accuracy: 0.7785 - val_loss: 0.0240 - val_accuracy: 0.6428\n",
      "Epoch 97/100\n",
      "7459/7459 [==============================] - 72s 10ms/step - loss: 0.0063 - accuracy: 0.7799 - val_loss: 0.0238 - val_accuracy: 0.6537\n",
      "Epoch 98/100\n",
      "7459/7459 [==============================] - 72s 10ms/step - loss: 0.0062 - accuracy: 0.7792 - val_loss: 0.0241 - val_accuracy: 0.6382\n",
      "Epoch 99/100\n",
      "7459/7459 [==============================] - 73s 10ms/step - loss: 0.0062 - accuracy: 0.7791 - val_loss: 0.0244 - val_accuracy: 0.6433\n",
      "Epoch 100/100\n",
      "7459/7459 [==============================] - 72s 10ms/step - loss: 0.0062 - accuracy: 0.7806 - val_loss: 0.0244 - val_accuracy: 0.6405\n"
     ]
    },
    {
     "data": {
      "text/plain": [
       "<keras.callbacks.callbacks.History at 0x27590339308>"
      ]
     },
     "execution_count": 100,
     "metadata": {},
     "output_type": "execute_result"
    }
   ],
   "source": [
    "\n",
    "\n",
    "model.fit(X,Y,validation_split=0.3, epochs=100, batch_size=64)\n"
   ]
  },
  {
   "cell_type": "code",
   "execution_count": 101,
   "metadata": {},
   "outputs": [],
   "source": [
    "joblib_file = \"Joblib_RL_model.pkl\""
   ]
  },
  {
   "cell_type": "code",
   "execution_count": 102,
   "metadata": {},
   "outputs": [
    {
     "data": {
      "text/plain": [
       "['Joblib_RL_model.pkl']"
      ]
     },
     "execution_count": 102,
     "metadata": {},
     "output_type": "execute_result"
    }
   ],
   "source": [
    "joblib.dump(model,joblib_file)"
   ]
  },
  {
   "cell_type": "code",
   "execution_count": 103,
   "metadata": {},
   "outputs": [],
   "source": [
    "from skimage.io import imshow"
   ]
  },
  {
   "cell_type": "code",
   "execution_count": 104,
   "metadata": {},
   "outputs": [],
   "source": [
    "\n",
    "img1_color=[]\n",
    "img  = load_img('dataset/Abra/2eb2a528f9a247358452b3c740df69a0.jpg')\n",
    "img_g  = load_img('dataset/Abra/2eb2a528f9a247358452b3c740df69a0.jpg',grayscale = True)\n",
    "img1=img_to_array(load_img('dataset/Abra/2eb2a528f9a247358452b3c740df69a0.jpg'))\n",
    "img1 = resize(img1 ,(64,64))\n",
    "img.show(img_g)\n",
    "img.show(img)\n",
    "img1_color.append(img1)\n",
    "img1_color = np.array(img1_color, dtype=float)\n",
    "img1_color = rgb2lab(1.0/255*img1_color)[:,:,:,0]\n",
    "img1_color = img1_color.reshape(img1_color.shape+(1,))\n",
    "output1 = model.predict(img1_color)\n",
    "output1 = output1*128\n",
    "result = np.zeros((64, 64, 3))\n",
    "result[:,:,0] = img1_color[0][:,:,0]\n",
    "result[:,:,1:] = output1[0]\n",
    "final = lab2rgb(result)\n",
    "\n"
   ]
  },
  {
   "cell_type": "code",
   "execution_count": 105,
   "metadata": {
    "scrolled": true
   },
   "outputs": [
    {
     "data": {
      "text/plain": [
       "<matplotlib.image.AxesImage at 0x2758fa33948>"
      ]
     },
     "execution_count": 105,
     "metadata": {},
     "output_type": "execute_result"
    },
    {
     "data": {
      "image/png": "[encoded data removed]",
      "text/plain": [
       "<Figure size 432x288 with 1 Axes>"
      ]
     },
     "metadata": {
      "needs_background": "light"
     },
     "output_type": "display_data"
    }
   ],
   "source": [
    "imshow(final)"
   ]
  },
  {
   "cell_type": "code",
   "execution_count": 106,
   "metadata": {},
   "outputs": [],
   "source": [
    "img  = load_img('dataset/Abra/2eb2a528f9a247358452b3c740df69a0.jpg',grayscale = True)\n",
    "# convert image to a numpy array\n",
    "img_array = img_to_array(img)\n",
    "# load the image to confirm it was saved correctly\n",
    "\n",
    "\n",
    "img.show()"
   ]
  }
 ],
 "metadata": {
  "kernelspec": {
   "display_name": "Python 3",
   "language": "python",
   "name": "python3"
  },
  "language_info": {
   "codemirror_mode": {
    "name": "ipython",
    "version": 3
   },
   "file_extension": ".py",
   "mimetype": "text/x-python",
   "name": "python",
   "nbconvert_exporter": "python",
   "pygments_lexer": "ipython3",
   "version": "3.7.7"
  }
 },
 "nbformat": 4,
 "nbformat_minor": 4
}
